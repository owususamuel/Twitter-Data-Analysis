{
  "nbformat": 4,
  "nbformat_minor": 0,
  "metadata": {
    "colab": {
      "name": "Data Mining Project_Challenge_ Day2.ipynb",
      "provenance": [],
      "collapsed_sections": []
    },
    "kernelspec": {
      "name": "python3",
      "display_name": "Python 3"
    },
    "language_info": {
      "name": "python"
    }
  },
  "cells": [
    {
      "cell_type": "markdown",
      "metadata": {
        "id": "zDwep1K8Erxl"
      },
      "source": [
        "**Project:** Data Minining Project for  X company"
      ]
    },
    {
      "cell_type": "markdown",
      "metadata": {
        "id": "d7-ii3uyI8KY"
      },
      "source": [
        "The CRISP-DM Framework\n",
        "\n",
        "\n",
        "The CRISP-DM methodology provides a structured approach to planning a data mining project. It is a robust and well-proven methodology.\n",
        "* Business understanding (BU): Determine Business Objectives, Assess Situation, Determine Data Mining Goals, Produce Project Plan\n",
        "\n",
        "* Data understanding (DU): Collect Initial Data, Describe Data, Explore Data, Verify Data Quality\n",
        "\n",
        "* Data preparation (DP): Select Data, Clean Data, Construct Data, Integrate Data\n",
        "\n",
        "* Modeling (M): Select modeling technique, Generate Test Design, Build Model, Assess Model\n",
        "*  Evaluation (E): Evaluate Results, Review Process, Determine Next Steps\n",
        "*  Deployment (D): Plan Deployment, Plan Monitoring and Maintenance, Produce Final Report, Review Project\n",
        "\n",
        "\n",
        "References:\n",
        "\n",
        "[What is the CRISP-DM methodology?](https://www.sv-europe.com/crisp-dm-methodology/)\n",
        "\n",
        "[Introduction to CRISP DM Framework for Data Science and Machine Learning](https://www.linkedin.com/pulse/chapter-1-introduction-crisp-dm-framework-data-science-anshul-roy/)"
      ]
    },
    {
      "cell_type": "markdown",
      "metadata": {
        "id": "5lo7Ml7tMQOf"
      },
      "source": [
        "**Data Set**\n",
        "### The data is for company X which is trying to control attrition. \n",
        "### There are two sets of data: \"Existing employees\" and \"Employees who have left\". The following attributes are available for every employee.\n",
        "\n",
        "\n",
        "*   Satisfaction Level\n",
        "\n",
        "*   Last evaluation\n",
        "\n",
        "*   Number of projects\n",
        "\n",
        "*   Average monthly hours\n",
        "\n",
        "*   Time spent at the company\n",
        "*   Whether they have had a work accident\n",
        "\n",
        "\n",
        "*  Whether they have had a promotion in the last 5 years\n",
        "\n",
        "\n",
        "*   Departments (column sales)\n",
        "\n",
        "\n",
        "*   Salary\n",
        "\n",
        "\n",
        "*  Whether the employee has left\n",
        "\n",
        "\n",
        "\n",
        "\n",
        "\n",
        "\n",
        "\n",
        "\n",
        "\n",
        "\n",
        "\n",
        "\n",
        "\n",
        "\n",
        "\n",
        "\n"
      ]
    },
    {
      "cell_type": "markdown",
      "metadata": {
        "id": "sjSj2A2sSph_"
      },
      "source": [
        "**Your Role**\n",
        " \n",
        "\n",
        "*   As data science team member X company asked you to answer this two questions.\n",
        "*  What type of employees is leaving? \n",
        "\n",
        "*   Determine which employees are prone to leave next.\n",
        "\n",
        "\n",
        "\n",
        "\n"
      ]
    },
    {
      "cell_type": "markdown",
      "metadata": {
        "id": "ajdEVA7LiBUp"
      },
      "source": [
        "Business Understanding\n",
        "\n",
        "---\n",
        "\n",
        "This step mostly focuses on understanding the Business in all the different aspects. It follows the below different steps.\n",
        "\n",
        "\n",
        "\n",
        "\n",
        "* Identify the goal and frame the business problem.\n",
        "* Prepare Analytical Goal i.e. what type of performance metric and loss function to use\n",
        "* Gather information on resource, constraints, assumptions, risks etc\n",
        "* Gather information on resource, constraints, assumptions, risks etc\n",
        "*   Prepare Work Flow Chart"
      ]
    },
    {
      "cell_type": "markdown",
      "metadata": {
        "id": "J4MwiCYzj2_u"
      },
      "source": [
        "### Write the main objectives of this project in your words?\n",
        "minimum of 100 characters"
      ]
    },
    {
      "cell_type": "code",
      "metadata": {
        "id": "STyLda45j1Mf"
      },
      "source": [
        "main_objectives = '''1. To do data preparation and Exploratory Data Analysis so as \n",
        "                       to understand the data and determine what type of employee is leaving\n",
        "                     2. To build a efficiently working ML model that can be used to make predictions\n",
        "                       what type of employee is prone to leaving based on new incoming data\n",
        "                  '''"
      ],
      "execution_count": null,
      "outputs": []
    },
    {
      "cell_type": "code",
      "metadata": {
        "id": "CuOlxLxKMOLI"
      },
      "source": [
        "assert len(main_objectives) > 100 \n",
        "### BEGIN HIDDEN TESTS\n",
        "assert len(main_objectives) > 80 \n",
        "### END HIDDEN TESTS"
      ],
      "execution_count": null,
      "outputs": []
    },
    {
      "cell_type": "markdown",
      "metadata": {
        "id": "NyXeNxlCkbaw"
      },
      "source": [
        "### Outline the different data analysis steps you will follow to carry out the project"
      ]
    },
    {
      "cell_type": "code",
      "metadata": {
        "id": "rC-tl8sUksQq"
      },
      "source": [
        "dm_outline = '''1. Univariate analysis to understand the important variables\n",
        "                2. Multivariate analysis to understand relationships between variables in relation to the output.\n",
        "                    eg.correlation\n",
        "'''"
      ],
      "execution_count": null,
      "outputs": []
    },
    {
      "cell_type": "code",
      "metadata": {
        "id": "-K1mWuDoksTk"
      },
      "source": [
        "assert len(dm_outline) > 100 \n",
        "### BEGIN HIDDEN TESTS\n",
        "assert len(dm_outline) > 70 \n",
        "### END HIDDEN TESTS"
      ],
      "execution_count": null,
      "outputs": []
    },
    {
      "cell_type": "markdown",
      "metadata": {
        "id": "pmUDFG1wkzUy"
      },
      "source": [
        "### What metrics will you use to measure the performance of your data analysis model? \n",
        "Write the equations of the metrics here\n",
        "\n",
        "**Confusion Matrix**\n",
        "\n",
        "[[TP FP]\n",
        " \n",
        " [FN TN]]\n",
        "\n",
        " **Accuracy**\n",
        "\n",
        " $\\frac{(TP+TN)}{total}$ \n",
        "\n",
        " \n",
        " **Sensitivity**\n",
        " \n",
        " $\\frac{TP}{actualyes}$\n",
        "\n",
        "**F-Score**\n",
        "\n",
        "$\\frac{tp}{(tp + 1/2(fp+fn)}$\n",
        "\n",
        "\n",
        "**Classification report**"
      ]
    },
    {
      "cell_type": "markdown",
      "metadata": {
        "id": "KCNulojKk_BP"
      },
      "source": [
        "e.g. Precision = $\\frac{TP}{(TP + FP)}$\n",
        "\n"
      ]
    },
    {
      "cell_type": "markdown",
      "metadata": {
        "id": "vLS2YHoRk_EK"
      },
      "source": [
        "Why do you choose these metrics? minimum of 100 characters"
      ]
    },
    {
      "cell_type": "code",
      "metadata": {
        "id": "LSynT14KlPSJ"
      },
      "source": [
        "why_metrics = ''' 1. The above metrics will measure the performance of the model on different dimensions\n",
        "                  2. They will also be able to capture model bias ie overfitting or underfitting\n",
        "                  3. Classification report will have attention to detail on whether the data is imbalanced\n",
        "              '''"
      ],
      "execution_count": null,
      "outputs": []
    },
    {
      "cell_type": "code",
      "metadata": {
        "id": "yr-Mk0E8lPVJ"
      },
      "source": [
        "assert len(why_metrics) > 100 \n",
        "### BEGIN HIDDEN TESTS\n",
        "assert len(why_metrics) > 80 \n",
        "### END HIDDEN TESTS"
      ],
      "execution_count": null,
      "outputs": []
    },
    {
      "cell_type": "markdown",
      "metadata": {
        "id": "aAo19Ip6lUtm"
      },
      "source": [
        "### How would you know if your data analysis work is a success or not?\n",
        "minimum of 100 characters"
      ]
    },
    {
      "cell_type": "code",
      "metadata": {
        "id": "HESsiXW5llX-"
      },
      "source": [
        "how_success = '''Data analysis will be a success if I will be able to;\n",
        "                           1. answer the question on type of employee that is leaving\n",
        "                           2. Give insights eg on feature engineering for model preparation\n",
        "              '''"
      ],
      "execution_count": null,
      "outputs": []
    },
    {
      "cell_type": "code",
      "metadata": {
        "id": "FdUoiMIOlmXq"
      },
      "source": [
        "assert len(how_success) > 100 \n",
        "### BEGIN HIDDEN TESTS\n",
        "assert len(how_success) > 80 \n",
        "### END HIDDEN TESTS"
      ],
      "execution_count": null,
      "outputs": []
    },
    {
      "cell_type": "markdown",
      "metadata": {
        "id": "DQE6dqo6l1TZ"
      },
      "source": [
        "## What kind of challenges do you expect in your analysis?\n",
        "List at least 3 challenges"
      ]
    },
    {
      "cell_type": "code",
      "metadata": {
        "id": "WrAhBQhQl8Lh"
      },
      "source": [
        "challenge_text = '''1. Performing data cleaning\n",
        "                    2. Understanding data into details\n",
        "                    3. Converting the business problem into a data science problem.\n",
        "                       eg determing the important features for this particular project\n",
        "                  '''"
      ],
      "execution_count": null,
      "outputs": []
    },
    {
      "cell_type": "code",
      "metadata": {
        "id": "EedHa-Pll8X7"
      },
      "source": [
        "assert len(challenge_text) > 100 \n",
        "### BEGIN HIDDEN TESTS\n",
        "assert len(how_success) > 80 \n",
        "### END HIDDEN TESTS"
      ],
      "execution_count": null,
      "outputs": []
    },
    {
      "cell_type": "code",
      "metadata": {
        "id": "MDifb14itu3e"
      },
      "source": [
        ""
      ],
      "execution_count": null,
      "outputs": []
    },
    {
      "cell_type": "markdown",
      "metadata": {
        "id": "ZcJ8M6uWDeSE"
      },
      "source": [
        "<h2>Using the processed twitter data from yesterday's challenge</h2>.\n",
        "\n",
        "\n",
        "- Form a new data frame (named `cleanTweet`), containing columns $\\textbf{clean-text}$ and $\\textbf{polarity}$.\n",
        "\n",
        "- Write a function `text_category` that takes a value `p` and returns, depending on the value of p, a string `'positive'`, `'negative'` or `'neutral'`.\n",
        "\n",
        "- Apply this function (`text_category`) on the $\\textbf{polarity}$ column of `cleanTweet` in 1 above to form a new column called $\\textbf{score}$ in `cleanTweet`.\n",
        "\n",
        "- Visualize The $\\textbf{score}$ column using piechart and barchart\n",
        "\n",
        "<h5>Now we want to build a classification model on the clean tweet following the steps below:</h5>\n",
        "\n",
        "* Remove rows from `cleanTweet` where $\\textbf{polarity}$ $= 0$ (i.e where $\\textbf{score}$ = Neutral) and reset the frame index.\n",
        "* Construct a column $\\textbf{scoremap}$ Use the mapping {'positive':1, 'negative':0} on the $\\textbf{score}$ column\n",
        "* Create feature and target variables `(X,y)` from $\\textbf{clean-text}$ and $\\textbf{scoremap}$ columns respectively.\n",
        "* Use `train_test_split` function to construct `(X_train, y_train)` and `(X_test, y_test)` from `(X,y)`\n",
        "\n",
        "* Build an `SGDClassifier` model from the vectorize train text data. Use `CountVectorizer()` with a $\\textit{trigram}$ parameter.\n",
        "\n",
        "* Evaluate your model on the test data.\n"
      ]
    },
    {
      "cell_type": "code",
      "metadata": {
        "id": "Nu6AvZZQkQxQ"
      },
      "source": [
        "#importing prerequisite libraries\n",
        "\n",
        "import pandas as pd\n",
        "import numpy as np\n",
        "import plotly.express as px\n",
        "import matplotlib\n",
        "import matplotlib.pyplot as plt\n",
        "import seaborn as sns\n",
        "%matplotlib inline"
      ],
      "execution_count": null,
      "outputs": []
    },
    {
      "cell_type": "code",
      "metadata": {
        "colab": {
          "base_uri": "https://localhost:8080/",
          "height": 538
        },
        "id": "VEbzeJIokYXV",
        "outputId": "1b3d4496-3683-44a5-be72-8a274fbab669"
      },
      "source": [
        "#loading the data\n",
        "\n",
        "employees_df = pd.read_csv('/content/cleaned_fintech_data.csv')\n",
        "employees_df.head()"
      ],
      "execution_count": null,
      "outputs": [
        {
          "output_type": "execute_result",
          "data": {
            "text/html": [
              "<div>\n",
              "<style scoped>\n",
              "    .dataframe tbody tr th:only-of-type {\n",
              "        vertical-align: middle;\n",
              "    }\n",
              "\n",
              "    .dataframe tbody tr th {\n",
              "        vertical-align: top;\n",
              "    }\n",
              "\n",
              "    .dataframe thead th {\n",
              "        text-align: right;\n",
              "    }\n",
              "</style>\n",
              "<table border=\"1\" class=\"dataframe\">\n",
              "  <thead>\n",
              "    <tr style=\"text-align: right;\">\n",
              "      <th></th>\n",
              "      <th>Unnamed: 0</th>\n",
              "      <th>created_at</th>\n",
              "      <th>source</th>\n",
              "      <th>original_text</th>\n",
              "      <th>clean_text</th>\n",
              "      <th>sentiment</th>\n",
              "      <th>polarity</th>\n",
              "      <th>subjectivity</th>\n",
              "      <th>lang</th>\n",
              "      <th>favorite_count</th>\n",
              "      <th>retweet_count</th>\n",
              "      <th>original_author</th>\n",
              "      <th>screen_count</th>\n",
              "      <th>followers_count</th>\n",
              "      <th>friends_count</th>\n",
              "      <th>possibly_sensitive</th>\n",
              "      <th>hashtags</th>\n",
              "      <th>user_mentions</th>\n",
              "      <th>place</th>\n",
              "      <th>place_coord_boundaries</th>\n",
              "      <th>timestamp</th>\n",
              "    </tr>\n",
              "  </thead>\n",
              "  <tbody>\n",
              "    <tr>\n",
              "      <th>0</th>\n",
              "      <td>0.0</td>\n",
              "      <td>Thu Jun 17 06:26:34 +0000 2021</td>\n",
              "      <td>&lt;a href=\"https://mobile.twitter.com\" rel=\"nofo...</td>\n",
              "      <td>Giving forth life is becoming a burden in Keny...</td>\n",
              "      <td>Giving forth life becoming burden Kenya This m...</td>\n",
              "      <td>Sentiment(polarity=0.3194444444444445, subject...</td>\n",
              "      <td>0.3194444444444445</td>\n",
              "      <td>0.5305555555555556</td>\n",
              "      <td>en</td>\n",
              "      <td>0</td>\n",
              "      <td>0</td>\n",
              "      <td>reen_law</td>\n",
              "      <td>398</td>\n",
              "      <td>70</td>\n",
              "      <td>223</td>\n",
              "      <td>NaN</td>\n",
              "      <td>NaN</td>\n",
              "      <td>janetmachuka_</td>\n",
              "      <td>NaN</td>\n",
              "      <td>NaN</td>\n",
              "      <td>2021-06-17 06:26:34+00:00</td>\n",
              "    </tr>\n",
              "    <tr>\n",
              "      <th>1</th>\n",
              "      <td>1.0</td>\n",
              "      <td>Thu Jun 17 06:26:37 +0000 2021</td>\n",
              "      <td>&lt;a href=\"http://twitter.com/download/android\" ...</td>\n",
              "      <td>Teenmaar - 26cr\\nPanja - 32.5cr\\nGabbarsingh -...</td>\n",
              "      <td>Teenmaar crPanja crGabbarsingh cr Khaleja Kuda...</td>\n",
              "      <td>Sentiment(polarity=0.0, subjectivity=0.0)</td>\n",
              "      <td>0.0</td>\n",
              "      <td>0.0</td>\n",
              "      <td>in</td>\n",
              "      <td>0</td>\n",
              "      <td>0</td>\n",
              "      <td>Amigo9999_</td>\n",
              "      <td>19047</td>\n",
              "      <td>132</td>\n",
              "      <td>1084</td>\n",
              "      <td>NaN</td>\n",
              "      <td>NaN</td>\n",
              "      <td>maheshblood</td>\n",
              "      <td>NaN</td>\n",
              "      <td>India</td>\n",
              "      <td>2021-06-17 06:26:37+00:00</td>\n",
              "    </tr>\n",
              "    <tr>\n",
              "      <th>2</th>\n",
              "      <td>2.0</td>\n",
              "      <td>Thu Jun 17 06:26:42 +0000 2021</td>\n",
              "      <td>&lt;a href=\"http://twitter.com/download/android\" ...</td>\n",
              "      <td>Rei chintu 2013 lo Vachina Ad Nizam ne 2018 lo...</td>\n",
              "      <td>Rei chintu lo Vachina Ad Nizam ne lo kottaru f...</td>\n",
              "      <td>Sentiment(polarity=0.0, subjectivity=0.0)</td>\n",
              "      <td>0.0</td>\n",
              "      <td>0.0</td>\n",
              "      <td>hi</td>\n",
              "      <td>0</td>\n",
              "      <td>0</td>\n",
              "      <td>MallaSuhaas</td>\n",
              "      <td>47341</td>\n",
              "      <td>2696</td>\n",
              "      <td>2525</td>\n",
              "      <td>NaN</td>\n",
              "      <td>NaN</td>\n",
              "      <td>Hail_Kalyan</td>\n",
              "      <td>NaN</td>\n",
              "      <td>Vizag</td>\n",
              "      <td>2021-06-17 06:26:42+00:00</td>\n",
              "    </tr>\n",
              "    <tr>\n",
              "      <th>3</th>\n",
              "      <td>3.0</td>\n",
              "      <td>Thu Jun 17 06:26:44 +0000 2021</td>\n",
              "      <td>&lt;a href=\"http://twitter.com/download/iphone\" r...</td>\n",
              "      <td>Today is World Day to Combat #Desertification ...</td>\n",
              "      <td>Today World Day Combat Restoring degraded land...</td>\n",
              "      <td>Sentiment(polarity=0.25, subjectivity=0.65)</td>\n",
              "      <td>0.25</td>\n",
              "      <td>0.65</td>\n",
              "      <td>en</td>\n",
              "      <td>0</td>\n",
              "      <td>0</td>\n",
              "      <td>CIACOceania</td>\n",
              "      <td>7039</td>\n",
              "      <td>343</td>\n",
              "      <td>387</td>\n",
              "      <td>NaN</td>\n",
              "      <td>Desertification, Drought, resilience</td>\n",
              "      <td>EdwardVrkic</td>\n",
              "      <td>NaN</td>\n",
              "      <td>Papua New Guinea</td>\n",
              "      <td>2021-06-17 06:26:44+00:00</td>\n",
              "    </tr>\n",
              "    <tr>\n",
              "      <th>4</th>\n",
              "      <td>4.0</td>\n",
              "      <td>Thu Jun 17 06:26:47 +0000 2021</td>\n",
              "      <td>&lt;a href=\"http://twitter.com/download/android\" ...</td>\n",
              "      <td>Hearing #GregHunt say he's confident vaccines ...</td>\n",
              "      <td>Hearing say 's confident vaccines delivered li...</td>\n",
              "      <td>Sentiment(polarity=0.5, subjectivity=0.8333333...</td>\n",
              "      <td>0.5</td>\n",
              "      <td>0.8333333333333334</td>\n",
              "      <td>en</td>\n",
              "      <td>0</td>\n",
              "      <td>0</td>\n",
              "      <td>MccarronWendy</td>\n",
              "      <td>26064</td>\n",
              "      <td>419</td>\n",
              "      <td>878</td>\n",
              "      <td>NaN</td>\n",
              "      <td>GregHunt, Morrison</td>\n",
              "      <td>WriteWithDave</td>\n",
              "      <td>NaN</td>\n",
              "      <td>Sydney, New South Wales</td>\n",
              "      <td>2021-06-17 06:26:47+00:00</td>\n",
              "    </tr>\n",
              "  </tbody>\n",
              "</table>\n",
              "</div>"
            ],
            "text/plain": [
              "   Unnamed: 0  ...                  timestamp\n",
              "0         0.0  ...  2021-06-17 06:26:34+00:00\n",
              "1         1.0  ...  2021-06-17 06:26:37+00:00\n",
              "2         2.0  ...  2021-06-17 06:26:42+00:00\n",
              "3         3.0  ...  2021-06-17 06:26:44+00:00\n",
              "4         4.0  ...  2021-06-17 06:26:47+00:00\n",
              "\n",
              "[5 rows x 21 columns]"
            ]
          },
          "metadata": {
            "tags": []
          },
          "execution_count": 83
        }
      ]
    },
    {
      "cell_type": "code",
      "metadata": {
        "id": "j3TM6sxWkqSA"
      },
      "source": [
        "#cleanTweet dataframe\n",
        "cleanTweet = employees_df[['clean_text','polarity']]"
      ],
      "execution_count": null,
      "outputs": []
    },
    {
      "cell_type": "code",
      "metadata": {
        "colab": {
          "base_uri": "https://localhost:8080/",
          "height": 363
        },
        "id": "13crAzzHxUsg",
        "outputId": "9508ac23-b665-4075-99f4-50938df94449"
      },
      "source": [
        "cleanTweet.sample(10)"
      ],
      "execution_count": null,
      "outputs": [
        {
          "output_type": "execute_result",
          "data": {
            "text/html": [
              "<div>\n",
              "<style scoped>\n",
              "    .dataframe tbody tr th:only-of-type {\n",
              "        vertical-align: middle;\n",
              "    }\n",
              "\n",
              "    .dataframe tbody tr th {\n",
              "        vertical-align: top;\n",
              "    }\n",
              "\n",
              "    .dataframe thead th {\n",
              "        text-align: right;\n",
              "    }\n",
              "</style>\n",
              "<table border=\"1\" class=\"dataframe\">\n",
              "  <thead>\n",
              "    <tr style=\"text-align: right;\">\n",
              "      <th></th>\n",
              "      <th>clean_text</th>\n",
              "      <th>polarity</th>\n",
              "    </tr>\n",
              "  </thead>\n",
              "  <tbody>\n",
              "    <tr>\n",
              "      <th>282</th>\n",
              "      <td>Adhi Vadu Ah roje delete chesadra Pilla Pogo ....</td>\n",
              "      <td>0.0</td>\n",
              "    </tr>\n",
              "    <tr>\n",
              "      <th>4965</th>\n",
              "      <td>Today Restoring degraded land ... creates jobs...</td>\n",
              "      <td>0.0</td>\n",
              "    </tr>\n",
              "    <tr>\n",
              "      <th>2750</th>\n",
              "      <td>Macam-macam bentuk selaput dara Elastisitas be...</td>\n",
              "      <td>0.5</td>\n",
              "    </tr>\n",
              "    <tr>\n",
              "      <th>3208</th>\n",
              "      <td>Telugu states Following .. MB Mega family Indi...</td>\n",
              "      <td>0.0</td>\n",
              "    </tr>\n",
              "    <tr>\n",
              "      <th>252</th>\n",
              "      <td>Ceeded break up.Remaining centers kuda tesukuv...</td>\n",
              "      <td>0.0</td>\n",
              "    </tr>\n",
              "    <tr>\n",
              "      <th>3119</th>\n",
              "      <td>Credit/Debit yrs kastam .. Top lo kuda compari...</td>\n",
              "      <td>0.5</td>\n",
              "    </tr>\n",
              "    <tr>\n",
              "      <th>352</th>\n",
              "      <td>Height Okkakkadu bujam dhaggaraki kuda raaru d...</td>\n",
              "      <td>-0.1</td>\n",
              "    </tr>\n",
              "    <tr>\n",
              "      <th>3605</th>\n",
              "      <td>Last time nen edho rd class trolls rendu esa a...</td>\n",
              "      <td>-0.029166666666666664</td>\n",
              "    </tr>\n",
              "    <tr>\n",
              "      <th>1302</th>\n",
              "      <td>Adhi Vadu Ah roje delete chesadra Pilla Pogo ....</td>\n",
              "      <td>0.0</td>\n",
              "    </tr>\n",
              "    <tr>\n",
              "      <th>4077</th>\n",
              "      <td>Every wash cycle leaves carbon footprint Tide ...</td>\n",
              "      <td>0.0</td>\n",
              "    </tr>\n",
              "  </tbody>\n",
              "</table>\n",
              "</div>"
            ],
            "text/plain": [
              "                                             clean_text               polarity\n",
              "282   Adhi Vadu Ah roje delete chesadra Pilla Pogo ....                    0.0\n",
              "4965  Today Restoring degraded land ... creates jobs...                    0.0\n",
              "2750  Macam-macam bentuk selaput dara Elastisitas be...                    0.5\n",
              "3208  Telugu states Following .. MB Mega family Indi...                    0.0\n",
              "252   Ceeded break up.Remaining centers kuda tesukuv...                    0.0\n",
              "3119  Credit/Debit yrs kastam .. Top lo kuda compari...                    0.5\n",
              "352   Height Okkakkadu bujam dhaggaraki kuda raaru d...                   -0.1\n",
              "3605  Last time nen edho rd class trolls rendu esa a...  -0.029166666666666664\n",
              "1302  Adhi Vadu Ah roje delete chesadra Pilla Pogo ....                    0.0\n",
              "4077  Every wash cycle leaves carbon footprint Tide ...                    0.0"
            ]
          },
          "metadata": {
            "tags": []
          },
          "execution_count": 85
        }
      ]
    },
    {
      "cell_type": "code",
      "metadata": {
        "colab": {
          "base_uri": "https://localhost:8080/"
        },
        "id": "cDZ_AKue4XUq",
        "outputId": "1fef1974-5fb3-48e9-8fb2-0b2631d25e29"
      },
      "source": [
        "#checking on data info\n",
        "cleanTweet.info()"
      ],
      "execution_count": null,
      "outputs": [
        {
          "output_type": "stream",
          "text": [
            "<class 'pandas.core.frame.DataFrame'>\n",
            "RangeIndex: 5621 entries, 0 to 5620\n",
            "Data columns (total 2 columns):\n",
            " #   Column      Non-Null Count  Dtype \n",
            "---  ------      --------------  ----- \n",
            " 0   clean_text  5617 non-null   object\n",
            " 1   polarity    5621 non-null   object\n",
            "dtypes: object(2)\n",
            "memory usage: 88.0+ KB\n"
          ],
          "name": "stdout"
        }
      ]
    },
    {
      "cell_type": "code",
      "metadata": {
        "colab": {
          "base_uri": "https://localhost:8080/"
        },
        "id": "3-shpYez4_KA",
        "outputId": "2053d883-cbb5-403f-da2b-76d0c07adb04"
      },
      "source": [
        "#investigating polarity column\n",
        "cleanTweet['polarity'].value_counts()"
      ],
      "execution_count": null,
      "outputs": [
        {
          "output_type": "execute_result",
          "data": {
            "text/plain": [
              "0.0                    2134\n",
              "0.5                     340\n",
              "-0.1                    252\n",
              "0.13636363636363635     200\n",
              "0.15416666666666667     144\n",
              "                       ... \n",
              "0.23484848484848483       2\n",
              "0.18409090909090908       2\n",
              "0.45                      2\n",
              "0.5681818181818181        2\n",
              "polarity                  1\n",
              "Name: polarity, Length: 246, dtype: int64"
            ]
          },
          "metadata": {
            "tags": []
          },
          "execution_count": 87
        }
      ]
    },
    {
      "cell_type": "markdown",
      "metadata": {
        "id": "2DejAWY76_Bi"
      },
      "source": [
        "we observe there is a string called polarity.\n",
        "\n",
        "we shall convert it to null then drop"
      ]
    },
    {
      "cell_type": "code",
      "metadata": {
        "colab": {
          "base_uri": "https://localhost:8080/"
        },
        "id": "rGUSU2xQ4pKk",
        "outputId": "4daab230-cb51-42c1-9553-0b12c0f80e30"
      },
      "source": [
        "#replace string polarity with null\n",
        "cleanTweet['polarity'].replace({'polarity':np.nan}, inplace=True)"
      ],
      "execution_count": null,
      "outputs": [
        {
          "output_type": "stream",
          "text": [
            "/usr/local/lib/python3.7/dist-packages/pandas/core/series.py:4582: SettingWithCopyWarning:\n",
            "\n",
            "\n",
            "A value is trying to be set on a copy of a slice from a DataFrame\n",
            "\n",
            "See the caveats in the documentation: https://pandas.pydata.org/pandas-docs/stable/user_guide/indexing.html#returning-a-view-versus-a-copy\n",
            "\n"
          ],
          "name": "stderr"
        }
      ]
    },
    {
      "cell_type": "code",
      "metadata": {
        "colab": {
          "base_uri": "https://localhost:8080/"
        },
        "id": "fxEQmlE27Ptq",
        "outputId": "0ee8165a-d327-49d4-bf94-f1116b4a7b22"
      },
      "source": [
        "#confirming the null value\n",
        "cleanTweet['polarity'].isnull().sum()"
      ],
      "execution_count": null,
      "outputs": [
        {
          "output_type": "execute_result",
          "data": {
            "text/plain": [
              "1"
            ]
          },
          "metadata": {
            "tags": []
          },
          "execution_count": 89
        }
      ]
    },
    {
      "cell_type": "code",
      "metadata": {
        "id": "7kGbTRaj20aV"
      },
      "source": [
        "#drop null\n",
        "cleanTweet = cleanTweet.dropna()"
      ],
      "execution_count": null,
      "outputs": []
    },
    {
      "cell_type": "code",
      "metadata": {
        "colab": {
          "base_uri": "https://localhost:8080/"
        },
        "id": "yCcpzC8l37ek",
        "outputId": "844cb297-6ede-4892-f21d-edb514377b69"
      },
      "source": [
        "#confirming the null value\n",
        "cleanTweet['polarity'].isnull().sum()"
      ],
      "execution_count": null,
      "outputs": [
        {
          "output_type": "execute_result",
          "data": {
            "text/plain": [
              "0"
            ]
          },
          "metadata": {
            "tags": []
          },
          "execution_count": 91
        }
      ]
    },
    {
      "cell_type": "code",
      "metadata": {
        "id": "3zJs9U8t9KEo"
      },
      "source": [
        "#converting to float\n",
        "cleanTweet['polarity'] = cleanTweet['polarity'].astype(float)"
      ],
      "execution_count": null,
      "outputs": []
    },
    {
      "cell_type": "code",
      "metadata": {
        "id": "9G5yvbXB0jhx"
      },
      "source": [
        "#creating score column\n",
        "cleanTweet['score'] = cleanTweet['polarity']"
      ],
      "execution_count": null,
      "outputs": []
    },
    {
      "cell_type": "code",
      "metadata": {
        "id": "Zyx8UCtkzJHB"
      },
      "source": [
        "#locating values\n",
        "negative = cleanTweet[cleanTweet['score'] < 0].index\n",
        "neutral = cleanTweet[cleanTweet['score'] == 0].index\n",
        "positive = cleanTweet[cleanTweet['score'] > 0].index"
      ],
      "execution_count": null,
      "outputs": []
    },
    {
      "cell_type": "code",
      "metadata": {
        "id": "St9Q8ZIJzXm9"
      },
      "source": [
        "#coding the values\n",
        "cleanTweet.loc[negative, 'score'] = 'negative'\n",
        "cleanTweet.loc[neutral, 'score'] = 'neutral'\n",
        "cleanTweet.loc[positive, 'score'] = 'positive'"
      ],
      "execution_count": null,
      "outputs": []
    },
    {
      "cell_type": "code",
      "metadata": {
        "colab": {
          "base_uri": "https://localhost:8080/"
        },
        "id": "jtFC0PMM1vHs",
        "outputId": "4bf5690b-804e-4dd1-8427-b56aa7cf05a7"
      },
      "source": [
        "cleanTweet['score'].value_counts()"
      ],
      "execution_count": null,
      "outputs": [
        {
          "output_type": "execute_result",
          "data": {
            "text/plain": [
              "positive    2648\n",
              "neutral     2130\n",
              "negative     838\n",
              "Name: score, dtype: int64"
            ]
          },
          "metadata": {
            "tags": []
          },
          "execution_count": 96
        }
      ]
    },
    {
      "cell_type": "code",
      "metadata": {
        "id": "Ljt229E8_kZW"
      },
      "source": [
        ""
      ],
      "execution_count": null,
      "outputs": []
    },
    {
      "cell_type": "markdown",
      "metadata": {
        "id": "MlH8CbcZ2zrc"
      },
      "source": [
        "Visualizations"
      ]
    },
    {
      "cell_type": "code",
      "metadata": {
        "colab": {
          "base_uri": "https://localhost:8080/",
          "height": 383
        },
        "id": "8J5FDJLr245A",
        "outputId": "db8ef72a-ecac-4084-848e-5939f90950b4"
      },
      "source": [
        "#Bar chart\n",
        "colors = ['blue', 'purple','red']\n",
        "\n",
        "plt.figure(figsize=(5,5))\n",
        "cleanTweet['score'].value_counts().plot(kind='bar', rot = 60, color= colors)\n",
        "plt.title('Polarity scores')\n",
        "plt.xlabel('scores')\n",
        "plt.ylabel('count');"
      ],
      "execution_count": null,
      "outputs": [
        {
          "output_type": "display_data",
          "data": {
            "image/png": "[encoded data removed]",
            "text/plain": [
              "<Figure size 360x360 with 1 Axes>"
            ]
          },
          "metadata": {
            "tags": [],
            "needs_background": "light"
          }
        }
      ]
    },
    {
      "cell_type": "code",
      "metadata": {
        "colab": {
          "base_uri": "https://localhost:8080/",
          "height": 264
        },
        "id": "QD0sL85-RMhV",
        "outputId": "a7dc1b0a-600e-4038-dd32-a27f3370e702"
      },
      "source": [
        "#pie chart\n",
        "labels = ['positive', 'neutral','negative']\n",
        "cleanTweet['score'].value_counts().plot(kind='pie',labels=labels, colors = colors)\n",
        "plt.title('Polarity scores');"
      ],
      "execution_count": null,
      "outputs": [
        {
          "output_type": "display_data",
          "data": {
            "image/png": "[encoded data removed]",
            "text/plain": [
              "<Figure size 432x288 with 1 Axes>"
            ]
          },
          "metadata": {
            "tags": []
          }
        }
      ]
    }
  ]
}